{
 "cells": [
  {
   "cell_type": "code",
   "execution_count": 26,
   "metadata": {},
   "outputs": [],
   "source": [
    "import os\n",
    "import time\n",
    "from urllib import request\n",
    "from PIL import Image\n",
    "from selenium import webdriver\n",
    "from selenium.webdriver.common.keys import Keys\n",
    "from bs4 import BeautifulSoup\n",
    "import re\n",
    "import numpy as np\n",
    "import pandas as pd"
   ]
  },
  {
   "cell_type": "code",
   "execution_count": 27,
   "metadata": {},
   "outputs": [],
   "source": [
    "# Function to get price from the search result page\n",
    "def get_price(soup):\n",
    "    price = \"\"\n",
    "    sign_list = soup.find_all(text = re.compile('₹'))\n",
    "    pattern = re.compile(r'(?<=₹)\\ ?\\d+\\,?\\d+')\n",
    "    #print(sign_list)\n",
    "    if len(sign_list)>0:\n",
    "        for sign in sign_list:\n",
    "            if len(pattern.findall(sign))>0:\n",
    "                price = int(pattern.findall(sign)[0].replace(',',\"\"))\n",
    "                if price>2000: #remove irrelavant products (such as phone cover)\n",
    "                    break;\n",
    "    else: \n",
    "        rs_list = soup.find_all(text = re.compile('Rs.'))\n",
    "        pattern = re.compile(r'(?<=Rs.)\\ ?\\d+\\,?\\d+')\n",
    "        if len(rs_list)>0:\n",
    "            for rs in rs_list:\n",
    "                if len(pattern.findall(rs))>0:\n",
    "                    price = int(pattern.findall(rs)[0].replace(',',\"\"))\n",
    "                    if price>2000:\n",
    "                        break;    \n",
    "        else:\n",
    "            price = \"\"\n",
    "    #print(price)\n",
    "    return price\n",
    "                "
   ]
  },
  {
   "cell_type": "code",
   "execution_count": 28,
   "metadata": {},
   "outputs": [],
   "source": [
    "# Function to operate chrome driver to search device keywords\n",
    "def search_price(device):\n",
    "    search = driver.find_element_by_name(\"q\")\n",
    "    search.clear()\n",
    "    search.send_keys(device + \" price india\")\n",
    "    search.send_keys(Keys.RETURN)\n",
    "    time.sleep(2)\n",
    "    soup = BeautifulSoup(driver.page_source, \"lxml\")\n",
    "    price = get_price(soup)\n",
    "    return price"
   ]
  },
  {
   "cell_type": "code",
   "execution_count": null,
   "metadata": {},
   "outputs": [],
   "source": []
  },
  {
   "cell_type": "code",
   "execution_count": 29,
   "metadata": {},
   "outputs": [],
   "source": [
    "# Load list\n",
    "data = pd.read_csv('sample_data.csv')"
   ]
  },
  {
   "cell_type": "code",
   "execution_count": 30,
   "metadata": {},
   "outputs": [],
   "source": [
    "data['selenium_download'] = pd.Series()"
   ]
  },
  {
   "cell_type": "code",
   "execution_count": 31,
   "metadata": {},
   "outputs": [],
   "source": [
    "selenium_download = data['selenium_download'].copy()"
   ]
  },
  {
   "cell_type": "code",
   "execution_count": 32,
   "metadata": {},
   "outputs": [
    {
     "data": {
      "text/html": [
       "<div>\n",
       "<style scoped>\n",
       "    .dataframe tbody tr th:only-of-type {\n",
       "        vertical-align: middle;\n",
       "    }\n",
       "\n",
       "    .dataframe tbody tr th {\n",
       "        vertical-align: top;\n",
       "    }\n",
       "\n",
       "    .dataframe thead th {\n",
       "        text-align: right;\n",
       "    }\n",
       "</style>\n",
       "<table border=\"1\" class=\"dataframe\">\n",
       "  <thead>\n",
       "    <tr style=\"text-align: right;\">\n",
       "      <th></th>\n",
       "      <th>device_model_name</th>\n",
       "      <th>selenium_download</th>\n",
       "    </tr>\n",
       "  </thead>\n",
       "  <tbody>\n",
       "    <tr>\n",
       "      <th>0</th>\n",
       "      <td>Redmi Note 5 Pro</td>\n",
       "      <td>NaN</td>\n",
       "    </tr>\n",
       "    <tr>\n",
       "      <th>1</th>\n",
       "      <td>Redmi Note 4</td>\n",
       "      <td>NaN</td>\n",
       "    </tr>\n",
       "    <tr>\n",
       "      <th>2</th>\n",
       "      <td>Redmi Note 7 Pro</td>\n",
       "      <td>NaN</td>\n",
       "    </tr>\n",
       "    <tr>\n",
       "      <th>3</th>\n",
       "      <td>ONEPLUS A6000</td>\n",
       "      <td>NaN</td>\n",
       "    </tr>\n",
       "    <tr>\n",
       "      <th>4</th>\n",
       "      <td>Redmi Note 6 Pro</td>\n",
       "      <td>NaN</td>\n",
       "    </tr>\n",
       "  </tbody>\n",
       "</table>\n",
       "</div>"
      ],
      "text/plain": [
       "  device_model_name  selenium_download\n",
       "0  Redmi Note 5 Pro                NaN\n",
       "1      Redmi Note 4                NaN\n",
       "2  Redmi Note 7 Pro                NaN\n",
       "3     ONEPLUS A6000                NaN\n",
       "4  Redmi Note 6 Pro                NaN"
      ]
     },
     "execution_count": 32,
     "metadata": {},
     "output_type": "execute_result"
    }
   ],
   "source": [
    "data.head()"
   ]
  },
  {
   "cell_type": "code",
   "execution_count": 33,
   "metadata": {},
   "outputs": [],
   "source": [
    "device = data.device_model_name"
   ]
  },
  {
   "cell_type": "code",
   "execution_count": 34,
   "metadata": {},
   "outputs": [],
   "source": [
    "def run_search_by_ind(device, selenium_download, ind):\n",
    "    \"\"\"Main function to start downloading: \n",
    "    loop through the device lists within the index range, and fill the price into the series。\n",
    "    \"\"\"\n",
    "    for i in ind:\n",
    "        print(device[i])\n",
    "        result = search_price(device[i])\n",
    "        print('price:', result)\n",
    "        selenium_download[i] = result\n",
    "    return None"
   ]
  },
  {
   "cell_type": "code",
   "execution_count": 35,
   "metadata": {},
   "outputs": [],
   "source": [
    "# Set up chromedriver\n",
    "PhantomPath = \"chromedriver.exe\"  # Chromedriver should be up-to-date. Update at https://chromedriver.chromium.org/.\n",
    "driver =webdriver.Chrome(executable_path=PhantomPath)\n",
    "driver.set_page_load_timeout(300)\n",
    "time.sleep(6)\n",
    "driver.get(\"https://www.google.com\")\n",
    "time.sleep(6)"
   ]
  },
  {
   "cell_type": "code",
   "execution_count": null,
   "metadata": {},
   "outputs": [],
   "source": [
    "# Single operation. Use for debugging\n",
    "# search_price(device[1])"
   ]
  },
  {
   "cell_type": "code",
   "execution_count": 36,
   "metadata": {},
   "outputs": [],
   "source": [
    "# Set download index range\n",
    "ind = device[0:20].index"
   ]
  },
  {
   "cell_type": "code",
   "execution_count": 37,
   "metadata": {},
   "outputs": [
    {
     "name": "stdout",
     "output_type": "stream",
     "text": [
      "Redmi Note 5 Pro\n",
      "price: 11790\n",
      "Redmi Note 4\n",
      "price: 8499\n",
      "Redmi Note 7 Pro\n",
      "price: 13990\n",
      "ONEPLUS A6000\n",
      "price: 29999\n",
      "Redmi Note 6 Pro\n",
      "price: 11157\n",
      "ONEPLUS A6010\n",
      "price: 30999\n",
      "SM-A505F\n",
      "price: 15899\n",
      "SM-G610F\n",
      "price: 5999\n",
      "Redmi Note 8 Pro\n",
      "price: 18890\n",
      "iPhone8,1\n",
      "price: 39900\n",
      "GM1901\n",
      "price: 29950\n",
      "iPhone9,3\n",
      "price: 75990\n",
      "Redmi 4\n",
      "price: 4399\n",
      "Redmi Note 5\n",
      "price: 5799\n",
      "iPhone7,2\n",
      "price: 23990\n",
      "POCO F1\n",
      "price: 19999\n",
      "SM-M307F\n",
      "price: 16999\n",
      "Redmi 5A\n",
      "price: 7900\n",
      "iPhone11,8\n",
      "price: 57504\n",
      "HD1901\n",
      "price: 39999\n"
     ]
    }
   ],
   "source": [
    "run_search_by_ind(device, selenium_download, ind)"
   ]
  },
  {
   "cell_type": "code",
   "execution_count": null,
   "metadata": {},
   "outputs": [],
   "source": []
  },
  {
   "cell_type": "code",
   "execution_count": 38,
   "metadata": {},
   "outputs": [],
   "source": [
    "data['selenium_download'] = selenium_download"
   ]
  },
  {
   "cell_type": "code",
   "execution_count": 39,
   "metadata": {},
   "outputs": [],
   "source": [
    "# Save data\n",
    "data.to_csv('selenium_download.csv')"
   ]
  },
  {
   "cell_type": "code",
   "execution_count": null,
   "metadata": {},
   "outputs": [],
   "source": []
  }
 ],
 "metadata": {
  "kernelspec": {
   "display_name": "Python 3",
   "language": "python",
   "name": "python3"
  },
  "language_info": {
   "codemirror_mode": {
    "name": "ipython",
    "version": 3
   },
   "file_extension": ".py",
   "mimetype": "text/x-python",
   "name": "python",
   "nbconvert_exporter": "python",
   "pygments_lexer": "ipython3",
   "version": "3.6.4"
  }
 },
 "nbformat": 4,
 "nbformat_minor": 2
}
